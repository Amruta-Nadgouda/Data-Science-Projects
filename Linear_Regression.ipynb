{
  "nbformat": 4,
  "nbformat_minor": 0,
  "metadata": {
    "colab": {
      "name": "Linear_Regression.ipynb",
      "provenance": [],
      "authorship_tag": "ABX9TyM2Sf4x+6bmGxg6lKzQr77L"
    },
    "kernelspec": {
      "name": "python3",
      "display_name": "Python 3"
    },
    "language_info": {
      "name": "python"
    }
  },
  "cells": [
    {
      "cell_type": "code",
      "execution_count": null,
      "metadata": {
        "id": "FG15L_1qDQW_"
      },
      "outputs": [],
      "source": [
        ""
      ]
    }
  ]
}